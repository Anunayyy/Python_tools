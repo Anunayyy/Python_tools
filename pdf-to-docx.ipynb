{
 "cells": [
  {
   "cell_type": "code",
   "execution_count": 1,
   "metadata": {},
   "outputs": [
    {
     "name": "stdout",
     "output_type": "stream",
     "text": [
      "Collecting pdf2docxNote: you may need to restart the kernel to use updated packages.\n"
     ]
    },
    {
     "name": "stderr",
     "output_type": "stream",
     "text": [
      "WARNING: You are using pip version 20.1.1; however, version 22.2.2 is available.\n",
      "You should consider upgrading via the 'c:\\Users\\HP\\AppData\\Local\\Programs\\Python\\Python37\\python.exe -m pip install --upgrade pip' command.\n"
     ]
    },
    {
     "name": "stdout",
     "output_type": "stream",
     "text": [
      "\n",
      "  Using cached pdf2docx-0.5.6-py3-none-any.whl (148 kB)\n",
      "Collecting PyMuPDF>=1.19.0\n",
      "  Downloading PyMuPDF-1.20.2-cp37-cp37m-win_amd64.whl (6.6 MB)\n",
      "Collecting python-docx>=0.8.10\n",
      "  Using cached python-docx-0.8.11.tar.gz (5.6 MB)\n",
      "Collecting fonttools>=4.24.0\n",
      "  Using cached fonttools-4.37.0-py3-none-any.whl (956 kB)\n",
      "Collecting opencv-python>=4.5\n",
      "  Using cached opencv_python-4.6.0.66-cp36-abi3-win_amd64.whl (35.6 MB)\n",
      "Collecting fire>=0.3.0\n",
      "  Using cached fire-0.4.0.tar.gz (87 kB)\n",
      "Collecting numpy>=1.17.2\n",
      "  Downloading numpy-1.21.6-cp37-cp37m-win_amd64.whl (14.0 MB)\n",
      "Collecting lxml>=2.3.2\n",
      "  Downloading lxml-4.9.1-cp37-cp37m-win_amd64.whl (3.6 MB)\n",
      "Requirement already satisfied: six in c:\\users\\hp\\appdata\\local\\programs\\python\\python37\\lib\\site-packages (from fire>=0.3.0->pdf2docx) (1.16.0)\n",
      "Collecting termcolor\n",
      "  Using cached termcolor-1.1.0.tar.gz (3.9 kB)\n",
      "Using legacy setup.py install for python-docx, since package 'wheel' is not installed.\n",
      "Using legacy setup.py install for fire, since package 'wheel' is not installed.\n",
      "Using legacy setup.py install for termcolor, since package 'wheel' is not installed.\n",
      "Installing collected packages: PyMuPDF, lxml, python-docx, fonttools, numpy, opencv-python, termcolor, fire, pdf2docx\n",
      "    Running setup.py install for python-docx: started\n",
      "    Running setup.py install for python-docx: finished with status 'done'\n",
      "    Running setup.py install for termcolor: started\n",
      "    Running setup.py install for termcolor: finished with status 'done'\n",
      "    Running setup.py install for fire: started\n",
      "    Running setup.py install for fire: finished with status 'done'\n",
      "Successfully installed PyMuPDF-1.20.2 fire-0.4.0 fonttools-4.37.0 lxml-4.9.1 numpy-1.21.6 opencv-python-4.6.0.66 pdf2docx-0.5.6 python-docx-0.8.11 termcolor-1.1.0\n"
     ]
    }
   ],
   "source": [
    "pip install pdf2docx"
   ]
  },
  {
   "cell_type": "code",
   "execution_count": 2,
   "metadata": {},
   "outputs": [
    {
     "name": "stderr",
     "output_type": "stream",
     "text": [
      "[INFO] Start to convert dummy.pdf\n",
      "[INFO] \u001b[1;36m[1/4] Opening document...\u001b[0m\n",
      "[INFO] \u001b[1;36m[2/4] Analyzing document...\u001b[0m\n",
      "[WARNING] 'modified' timestamp seems very low; regarding as unix timestamp\n",
      "[INFO] \u001b[1;36m[3/4] Parsing pages...\u001b[0m\n",
      "[INFO] (1/1) Page 1\n",
      "[INFO] \u001b[1;36m[4/4] Creating pages...\u001b[0m\n",
      "[INFO] (1/1) Page 1\n",
      "[INFO] Terminated in 0.37s.\n"
     ]
    }
   ],
   "source": [
    "from pdf2docx import Converter\n",
    "pdf_file = 'dummy.pdf'\n",
    "docx_file = 'dummy.docx'\n",
    "cv = Converter(pdf_file)\n",
    "cv.convert(docx_file)\n",
    "cv.close()"
   ]
  }
 ],
 "metadata": {
  "kernelspec": {
   "display_name": "Python 3.7.8 64-bit",
   "language": "python",
   "name": "python3"
  },
  "language_info": {
   "codemirror_mode": {
    "name": "ipython",
    "version": 3
   },
   "file_extension": ".py",
   "mimetype": "text/x-python",
   "name": "python",
   "nbconvert_exporter": "python",
   "pygments_lexer": "ipython3",
   "version": "3.7.8"
  },
  "orig_nbformat": 4,
  "vscode": {
   "interpreter": {
    "hash": "356734b0b4e05b3af569ed06eb258f6ef66038e7268c6bdbb97ecd1a1c609e88"
   }
  }
 },
 "nbformat": 4,
 "nbformat_minor": 2
}
